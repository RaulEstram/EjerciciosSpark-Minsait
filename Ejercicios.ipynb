{
 "cells": [
  {
   "cell_type": "markdown",
   "id": "c3cd23ac",
   "metadata": {},
   "source": [
    "# Ejercicios Spark"
   ]
  },
  {
   "cell_type": "markdown",
   "id": "76adb83e",
   "metadata": {},
   "source": [
    "## Pasos Generales para todos los programas\n",
    "\n",
    "los pasos generales son:\n",
    "* las importaciones\n",
    "* la creacion de SparkSession y SparkContext"
   ]
  },
  {
   "cell_type": "markdown",
   "id": "a51d2b04",
   "metadata": {},
   "source": [
    "### Importaciones necesarias"
   ]
  },
  {
   "cell_type": "code",
   "execution_count": 1,
   "id": "fefea273",
   "metadata": {},
   "outputs": [],
   "source": [
    "import findspark\n",
    "findspark.init()\n",
    "\n",
    "import pandas as pd\n",
    "import pyspark\n",
    "\n",
    "from pyspark.sql import SparkSession\n",
    "from pyspark.sql.functions import *\n",
    "from pyspark.sql.functions import regexp_replace, col\n"
   ]
  },
  {
   "cell_type": "markdown",
   "id": "b494d566",
   "metadata": {},
   "source": [
    "### creacion de SparkSession y SparkContext"
   ]
  },
  {
   "cell_type": "code",
   "execution_count": 2,
   "id": "259b4498",
   "metadata": {},
   "outputs": [],
   "source": [
    "from pyspark.sql import SparkSession\n",
    "\n",
    "spark = SparkSession.builder.getOrCreate()\n",
    "\n",
    "spark = SparkSession.builder.getOrCreate()\n",
    "sc = spark.sparkContext"
   ]
  },
  {
   "cell_type": "code",
   "execution_count": 3,
   "id": "f9169e1e",
   "metadata": {},
   "outputs": [],
   "source": [
    "def espacio():\n",
    "    print(\"\\n\" + \"-\" * 50 + \"\\n\")"
   ]
  },
  {
   "cell_type": "markdown",
   "id": "2307363a",
   "metadata": {},
   "source": [
    "## Ejercicio 1\n",
    "\n",
    "* Genera un RDD con la siguiente lista [23,47,6,118,9,2,23,42,64,32,76,3,8,23,12,434,7534,24,9,23]\n",
    "* Filtra por los elementos únicos del RDD\n",
    "* Multiplica por 6 todos los elementos del RDD anterior\n",
    "* Filtra el elemento resultante por los elementos pares"
   ]
  },
  {
   "cell_type": "code",
   "execution_count": 3,
   "id": "9467d08d",
   "metadata": {},
   "outputs": [],
   "source": [
    "# Lista original\n",
    "lista_numeros =  [23,47,6,118,9,2,23,42,64,32,76,3,8,23,12,434,7534,24,9,23]\n",
    "\n",
    "# RDD con los numeros\n",
    "numeros_rdd = sc.parallelize(lista_numeros)\n",
    "\n",
    "# Filtrar por los elementos unicos \n",
    "numeros_unicos_rdd = numeros_rdd.distinct()\n",
    "\n",
    "# Multiplica por 6 todos los elementos del RDD\n",
    "numero_multiplicados_rdd = numeros_unicos_rdd.map(lambda x: x*6)\n",
    "\n",
    "# Filtrar los elementos pares\n",
    "numeros_pares_rdd = numero_multiplicados_rdd.filter(lambda x: x%2==0)"
   ]
  },
  {
   "cell_type": "markdown",
   "id": "cbecf83b",
   "metadata": {},
   "source": [
    "Muestra de los resultados"
   ]
  },
  {
   "cell_type": "code",
   "execution_count": 4,
   "id": "e91a0311",
   "metadata": {},
   "outputs": [
    {
     "name": "stdout",
     "output_type": "stream",
     "text": [
      "Lista Original: [23, 47, 6, 118, 9, 2, 23, 42, 64, 32, 76, 3, 8, 23, 12, 434, 7534, 24, 9, 23]\n",
      "Lista numeros unicos: [64, 32, 8, 24, 9, 2, 42, 434, 3, 76, 12, 6, 118, 7534, 23, 47]\n",
      "Lista numeros unicos multiplicados: [384, 192, 48, 144, 54, 12, 252, 2604, 18, 456, 72, 36, 708, 45204, 138, 282]\n",
      "Lista numeros unicos multiplicados y pares: [384, 192, 48, 144, 54, 12, 252, 2604, 18, 456, 72, 36, 708, 45204, 138, 282]\n"
     ]
    }
   ],
   "source": [
    "# Lista original\n",
    "print(\"Lista Original: {}\".format(numeros_rdd.collect()))\n",
    "\n",
    "# Lista con los elementos unicos\n",
    "print(\"Lista numeros unicos: {}\".format(numeros_unicos_rdd.collect()))\n",
    "\n",
    "# Lista con los numeros multiplicados\n",
    "print(\"Lista numeros unicos multiplicados: {}\".format(numero_multiplicados_rdd.collect()))\n",
    "\n",
    "# Lista numeros pares\n",
    "print(\"Lista numeros unicos multiplicados y pares: {}\".format(numeros_pares_rdd.collect()))"
   ]
  },
  {
   "cell_type": "markdown",
   "id": "9bbeddea",
   "metadata": {},
   "source": [
    "## Ejercicio 2\n",
    "\n",
    "* Genera un RDD con la siguiente lista [(‘Alan’,10),(´Beto´,13),(‘Carlos’,20),(‘Daniel’,25), (‘Alan’,15),(´Marlen´,13),(‘Pedro’,20),(‘Daniel’,10), (‘Pablo’,10),(´Juan´,13),(‘Cassy’,20),(‘Diana’,25)]\n",
    "* Obtén la suma de las edades agrupadas por el key\n",
    "* Ordena los RDDs con base al resultado\n",
    "* Cuenta cuantas veces aparece cada valor \n",
    "* Cuenta cuantas veces aparece cada key\n"
   ]
  },
  {
   "cell_type": "code",
   "execution_count": 22,
   "id": "6a4198e3",
   "metadata": {},
   "outputs": [],
   "source": [
    "# Generar un RDD con información\n",
    "data_personas =  sc.parallelize([('Alan',10),('Beto',13),('Carlos',20),('Daniel',25), ('Alan',15),('Marlen',13),('Pedro',20),('Daniel',10), ('Pablo',10),('Juan',13),('Cassy',20),('Diana',25)])\n",
    "\n",
    "# Obtener suma de las edades agrupadas por key\n",
    "personas_suma = data_personas.reduceByKey(lambda x, y: x+y)\n",
    "\n",
    "# ordenar los RDDs en base al resultado\n",
    "personas_suma_ordenada = personas_suma.sortBy(lambda x: x[1])\n",
    "\n",
    "# Cuenta cuantas veces aparece cada valor y cada key\n",
    "conteo_keys = data_personas.countByKey()\n",
    "conteo_values = data_personas.map(lambda x: x[1]).countByValue()"
   ]
  },
  {
   "cell_type": "markdown",
   "id": "2abf45b6",
   "metadata": {},
   "source": [
    "Muestra de resultados y usaremos una funcion auxiliar para imprimir unos datos"
   ]
  },
  {
   "cell_type": "code",
   "execution_count": 54,
   "id": "73fb2fb5",
   "metadata": {},
   "outputs": [],
   "source": [
    "def printDict(data: dict, title: str) -> None:\n",
    "    if not isinstance(data, dict):\n",
    "        print(\"Error: la data debe ser un diccionario.\")\n",
    "        return\n",
    "    if not isinstance(title, str):\n",
    "        print(\"Error: el titulo debe ser un diccionario.\")\n",
    "        return \n",
    "    \n",
    "    print(title + \"\\n\")\n",
    "    \n",
    "    for key, value in data.items():\n",
    "        print(\"Key: {}, Cantidad: {}\".format(key, value))"
   ]
  },
  {
   "cell_type": "code",
   "execution_count": 55,
   "id": "4798a28f",
   "metadata": {},
   "outputs": [
    {
     "name": "stdout",
     "output_type": "stream",
     "text": [
      "Suma edades por key: [('Carlos', 20), ('Juan', 13), ('Beto', 13), ('Pablo', 10), ('Diana', 25), ('Marlen', 13), ('Pedro', 20), ('Alan', 25), ('Daniel', 35), ('Cassy', 20)] \n",
      "\n",
      "--------------------------------------------------\n",
      "\n",
      "Suma edades por key: [('Pablo', 10), ('Juan', 13), ('Beto', 13), ('Marlen', 13), ('Carlos', 20), ('Pedro', 20), ('Cassy', 20), ('Diana', 25), ('Alan', 25), ('Daniel', 35)] \n",
      "\n",
      "--------------------------------------------------\n",
      "\n",
      "cantidad de keys\n",
      "\n",
      "Key: Alan, Cantidad: 2\n",
      "Key: Beto, Cantidad: 1\n",
      "Key: Carlos, Cantidad: 1\n",
      "Key: Daniel, Cantidad: 2\n",
      "Key: Marlen, Cantidad: 1\n",
      "Key: Pedro, Cantidad: 1\n",
      "Key: Pablo, Cantidad: 1\n",
      "Key: Juan, Cantidad: 1\n",
      "Key: Cassy, Cantidad: 1\n",
      "Key: Diana, Cantidad: 1\n",
      "\n",
      "--------------------------------------------------\n",
      "\n",
      "Cantidad de Values\n",
      "\n",
      "Key: 10, Cantidad: 3\n",
      "Key: 13, Cantidad: 3\n",
      "Key: 20, Cantidad: 3\n",
      "Key: 25, Cantidad: 2\n",
      "Key: 15, Cantidad: 1\n"
     ]
    }
   ],
   "source": [
    "# Obtener la suma de las edades agrupadas por el key\n",
    "print(\"Suma edades por key: {} \".format(personas_suma.collect()))\n",
    "\n",
    "espacio()\n",
    "\n",
    "# Ordenar los RDDs en base al resultado\n",
    "print(\"Suma edades por key: {} \".format(personas_suma_ordenada.collect()))\n",
    "\n",
    "espacio()\n",
    "\n",
    "# Numero de values y keys iguales\n",
    "\n",
    "printDict(conteo_keys, \"cantidad de keys\")\n",
    "\n",
    "espacio()\n",
    "\n",
    "printDict(conteo_values, \"Cantidad de Values\")\n"
   ]
  },
  {
   "cell_type": "markdown",
   "id": "22cd9c13",
   "metadata": {},
   "source": [
    "## Ejercicio 3\n",
    "\n",
    "* Inicializa una sesión de spark en consola y coloca en una variable llamada playersInfo la información del archivo t_players_info.csv y muestra el resultado en pantalla\n",
    "* Muestra el tipo de dato de cada columna\n",
    "* Ordena los valores de menor a mayor de acuerdo a la columna Rank y muestra el resultado en pantalla\n",
    "* Devuelve el conteo de todos los jugadores y muestra el resultado en pantalla\n",
    "* Obtén un conteo de jugadores de acuerdo a su deporte y muestra el resultado en pantalla\n",
    "* Obtén un conteo de jugadores de acuerdo a su género y muestra el resultado en pantalla\n",
    "* Devuelve el resultado de todos los jugadores cuyo nombre comience con la letra “A”\n"
   ]
  },
  {
   "cell_type": "code",
   "execution_count": 100,
   "id": "13f7c24c",
   "metadata": {},
   "outputs": [
    {
     "name": "stdout",
     "output_type": "stream",
     "text": [
      "+----+-----------------+----------+--------------------+------+\n",
      "|Rank|             Name|     Sport|      Wikipedia Page|Gender|\n",
      "+----+-----------------+----------+--------------------+------+\n",
      "|  55|    Aaron Rodgers|  Football|http://en.wikiped...|  Male|\n",
      "|  95|       Adam Scott|      Golf|https://en.wikipe...|  Male|\n",
      "|  60|  Adrian Gonzalez|  Baseball|http://en.wikiped...|  Male|\n",
      "|  48|   Alex Rodriguez|  Baseball|http://en.wikiped...|  Male|\n",
      "|  93|  Alfonso Soriano|  Baseball|http://en.wikiped...|  Male|\n",
      "|  27|Amar'e Stoudemire|Basketball|http://en.wikiped...|  Male|\n",
      "|  75|       Barry Zito|  Baseball|http://en.wikiped...|  Male|\n",
      "|  47|    Blake Griffin|Basketball|http://en.wikiped...|  Male|\n",
      "|  91|   Branden Albert|  Football|http://en.wikiped...|  Male|\n",
      "|  97| Brandon Marshall|  Football|http://en.wikiped...|  Male|\n",
      "+----+-----------------+----------+--------------------+------+\n",
      "only showing top 10 rows\n",
      "\n"
     ]
    }
   ],
   "source": [
    "# cargar la informacion del archivo t_players_info.csv\n",
    "playersInfo = spark.read.csv(\"data/t_players_info.csv\", sep=\",\", header=True, inferSchema=True)\n",
    "playersInfo.show(10)"
   ]
  },
  {
   "cell_type": "code",
   "execution_count": 101,
   "id": "e95bd3fd",
   "metadata": {},
   "outputs": [
    {
     "name": "stdout",
     "output_type": "stream",
     "text": [
      "root\n",
      " |-- Rank: integer (nullable = true)\n",
      " |-- Name: string (nullable = true)\n",
      " |-- Sport: string (nullable = true)\n",
      " |-- Wikipedia Page: string (nullable = true)\n",
      " |-- Gender: string (nullable = true)\n",
      "\n"
     ]
    }
   ],
   "source": [
    "# Muestra el tipo de dato de cada columna\n",
    "playersInfo.printSchema()"
   ]
  },
  {
   "cell_type": "code",
   "execution_count": 102,
   "id": "1a1f3d60",
   "metadata": {},
   "outputs": [
    {
     "name": "stdout",
     "output_type": "stream",
     "text": [
      "+----+-----------------+----------+--------------------+------+\n",
      "|Rank|             Name|     Sport|      Wikipedia Page|Gender|\n",
      "+----+-----------------+----------+--------------------+------+\n",
      "|   1| Floyd Mayweather|    Boxing|http://en.wikiped...|  Male|\n",
      "|   2|Cristiano Ronaldo|    Soccer|http://en.wikiped...|  Male|\n",
      "|   3|     LeBron James|Basketball|http://en.wikiped...|  Male|\n",
      "|   4|     Lionel Messi|    Soccer|http://en.wikiped...|  Male|\n",
      "|   5|      Kobe Bryant|Basketball|http://en.wikiped...|  Male|\n",
      "+----+-----------------+----------+--------------------+------+\n",
      "only showing top 5 rows\n",
      "\n"
     ]
    }
   ],
   "source": [
    "# ordena los valores de menor a mayor de acuerdo con la columna Rank\n",
    "playersInfo = df.sort(\"Rank\")\n",
    "playersInfo.show(5)"
   ]
  },
  {
   "cell_type": "code",
   "execution_count": 103,
   "id": "ade265e3",
   "metadata": {},
   "outputs": [
    {
     "data": {
      "text/plain": [
       "100"
      ]
     },
     "execution_count": 103,
     "metadata": {},
     "output_type": "execute_result"
    }
   ],
   "source": [
    "# Devuelve el conteo de todos los jugadores y muestra el resultado en pantalla\n",
    "playersInfo.count()"
   ]
  },
  {
   "cell_type": "code",
   "execution_count": 104,
   "id": "175f9daf",
   "metadata": {},
   "outputs": [
    {
     "name": "stdout",
     "output_type": "stream",
     "text": [
      "+----------+--------+\n",
      "|     Sport|cantidad|\n",
      "+----------+--------+\n",
      "|    Tennis|       6|\n",
      "|    Boxing|       4|\n",
      "|     Track|       1|\n",
      "|      Golf|       5|\n",
      "|Basketball|      18|\n",
      "|    Racing|       6|\n",
      "|  Baseball|      27|\n",
      "|   Cricket|       1|\n",
      "|    Soccer|      15|\n",
      "|  Football|      17|\n",
      "+----------+--------+\n",
      "\n"
     ]
    }
   ],
   "source": [
    "# Obtén un conteo de jugadores de acuerdo a su deporte y muestra el resultado en pantalla\n",
    "jugadores_por_deporte = playersInfo.groupBy(\"Sport\").agg(count(\"Sport\").alias(\"cantidad\"))\n",
    "jugadores_por_deporte.show()"
   ]
  },
  {
   "cell_type": "code",
   "execution_count": 105,
   "id": "9603e825",
   "metadata": {},
   "outputs": [
    {
     "name": "stdout",
     "output_type": "stream",
     "text": [
      "+------+--------+\n",
      "|Gender|Cantidad|\n",
      "+------+--------+\n",
      "|Female|       3|\n",
      "|  Male|      97|\n",
      "+------+--------+\n",
      "\n"
     ]
    }
   ],
   "source": [
    "# Obtén un conteo de jugadores de acuerdo a su género y muestra el resultado en pantalla\n",
    "jugadores_por_genero = playersInfo.groupBy(\"Gender\").agg(count(\"Gender\").alias(\"Cantidad\"))\n",
    "jugadores_por_genero.show()"
   ]
  },
  {
   "cell_type": "code",
   "execution_count": 106,
   "id": "b111ecf6",
   "metadata": {},
   "outputs": [
    {
     "name": "stdout",
     "output_type": "stream",
     "text": [
      "+----+-----------------+----------+--------------------+------+\n",
      "|Rank|             Name|     Sport|      Wikipedia Page|Gender|\n",
      "+----+-----------------+----------+--------------------+------+\n",
      "|  27|Amar'e Stoudemire|Basketball|http://en.wikiped...|  Male|\n",
      "|  48|   Alex Rodriguez|  Baseball|http://en.wikiped...|  Male|\n",
      "|  55|    Aaron Rodgers|  Football|http://en.wikiped...|  Male|\n",
      "|  60|  Adrian Gonzalez|  Baseball|http://en.wikiped...|  Male|\n",
      "|  77|    Albert Pujols|  Baseball|http://en.wikiped...|  Male|\n",
      "|  93|  Alfonso Soriano|  Baseball|http://en.wikiped...|  Male|\n",
      "|  95|       Adam Scott|      Golf|https://en.wikipe...|  Male|\n",
      "+----+-----------------+----------+--------------------+------+\n",
      "\n"
     ]
    }
   ],
   "source": [
    "# Devuelve el resultado de todos los jugadores cuyo nombre comience con la letra “A”\n",
    "df_con_A = playersInfo.filter(df.Name.startswith(\"A\") )\n",
    "df_con_A.show()"
   ]
  },
  {
   "cell_type": "markdown",
   "id": "00e7c1ea",
   "metadata": {},
   "source": [
    "## Ejercicio 4\n",
    "\n",
    "* Inicializa una sesión de spark en consola y coloca en una variable llamada playersSalary la información del archivo t_players_salary.csv y muestra el resultado en pantalla\n",
    "* Muestra el tipo de dato de cada columna\n",
    "* Ordena los valores de mayor a menor de acuerdo a la columna Total Pay y muestra el resultado en pantalla \n",
    "* Devuelve el conteo de todos los salarios por juego ganado mayores a \\$15,300,000 y muestra el resultado en pantalla\n",
    "* Devuelve el conteo de todos los salarios por endoso mayores a $800,000 y muestra el resultado en pantalla\n",
    "* Devuelve el Salario total máximo de todo el set de datos y muestra el resultado en pantalla\n",
    "* Devuelve el Salario total mínimo de todo el set de datos y muestra el resultado en pantalla\n",
    "* Devuelve la suma y promedio de los salarios de cada columna y muestra el resultado en pantalla\n"
   ]
  },
  {
   "cell_type": "markdown",
   "id": "f0d19e86",
   "metadata": {},
   "source": [
    "### Inicializa una sesión de spark en consola y coloca en una variable llamada playersSalary la información del archivo t_players_salary.csv y muestra el resultado en pantalla "
   ]
  },
  {
   "cell_type": "code",
   "execution_count": 34,
   "id": "371c45ec",
   "metadata": {},
   "outputs": [
    {
     "name": "stdout",
     "output_type": "stream",
     "text": [
      "+----+-----------+---------------+------------+\n",
      "|Rank|  Total Pay|Salary/Winnings|Endorsements|\n",
      "+----+-----------+---------------+------------+\n",
      "|  55|$22,000,000|    $14,500,000|  $7,500,000|\n",
      "|  95|$17,700,000|     $8,700,000|  $9,000,000|\n",
      "|  60|$21,500,000|    $21,100,000|    $400,000|\n",
      "|  48|$22,900,000|    $22,600,000|    $300,000|\n",
      "|  93|$18,050,000|    $18,000,000|     $50,000|\n",
      "|  27|$26,700,000|    $21,700,000|  $5,000,000|\n",
      "|  75|$20,400,000|    $20,300,000|    $100,000|\n",
      "|  47|$23,000,000|    $16,500,000|  $6,500,000|\n",
      "|  91|$18,435,000|    $18,400,000|     $35,000|\n",
      "|  97|$17,500,000|    $16,800,000|    $700,000|\n",
      "+----+-----------+---------------+------------+\n",
      "only showing top 10 rows\n",
      "\n"
     ]
    }
   ],
   "source": [
    "# cargar la informacion del archivo  t_players_salary.csv\n",
    "playersSalary = spark.read.csv(\"data/t_players_salary.csv\", sep=\"|\", header=True, inferSchema=True)\n",
    "playersSalary.show(10)"
   ]
  },
  {
   "cell_type": "markdown",
   "id": "c4709df3",
   "metadata": {},
   "source": [
    "### Muestra el tipo de dato de cada columna"
   ]
  },
  {
   "cell_type": "code",
   "execution_count": 47,
   "id": "10d5d717",
   "metadata": {},
   "outputs": [
    {
     "name": "stdout",
     "output_type": "stream",
     "text": [
      "root\n",
      " |-- Rank: integer (nullable = true)\n",
      " |-- Total Pay: string (nullable = true)\n",
      " |-- Salary/Winnings: string (nullable = true)\n",
      " |-- Endorsements: string (nullable = true)\n",
      "\n"
     ]
    }
   ],
   "source": [
    "# Muestra el tipo de dato de cada columna\n",
    "playersSalary.printSchema()"
   ]
  },
  {
   "cell_type": "markdown",
   "id": "cf493e2c",
   "metadata": {},
   "source": [
    "### Ordena los valores de mayor a menor de acuerdo a la columna Total Pay y muestra el resultado en pantalla\n",
    "\n",
    "Como los valores son de tipo String se nos deficultara trabajar con numeros por algunos errores que podrian dar como se podra ver en el siguiente ejemplo:"
   ]
  },
  {
   "cell_type": "code",
   "execution_count": 111,
   "id": "1857266b",
   "metadata": {},
   "outputs": [
    {
     "name": "stdout",
     "output_type": "stream",
     "text": [
      "+----+------------+---------------+------------+\n",
      "|Rank|   Total Pay|Salary/Winnings|Endorsements|\n",
      "+----+------------+---------------+------------+\n",
      "|   1|$105,000,000|   $105,000,000|          $0|\n",
      "| 100| $17,300,000|    $13,300,000|  $4,000,000|\n",
      "|  99| $17,400,000|    $17,200,000|    $200,000|\n",
      "|  97| $17,500,000|    $16,800,000|    $700,000|\n",
      "|  97| $17,500,000|    $17,300,000|    $200,000|\n",
      "|  96| $17,600,000|    $17,400,000|    $200,000|\n",
      "|  95| $17,700,000|     $8,700,000|  $9,000,000|\n",
      "|  94| $18,000,000|    $17,900,000|    $100,000|\n",
      "|  93| $18,050,000|    $18,000,000|     $50,000|\n",
      "|  92| $18,300,000|    $16,800,000|  $1,500,000|\n",
      "+----+------------+---------------+------------+\n",
      "only showing top 10 rows\n",
      "\n"
     ]
    }
   ],
   "source": [
    "ps_ordenado = playersSalary.sort(\"Total Pay\")\n",
    "ps_ordenado.show(10)"
   ]
  },
  {
   "cell_type": "markdown",
   "id": "594092c8",
   "metadata": {},
   "source": [
    "Para evitar estos problemas usaremos la siguiente funcion de forma auxiliar:"
   ]
  },
  {
   "cell_type": "code",
   "execution_count": 175,
   "id": "d5267a67",
   "metadata": {},
   "outputs": [],
   "source": [
    "# Funcion para regresar un df con el formato de una columna bien\n",
    "\n",
    "def formatDF(dataframe, campo):\n",
    "    new_field = \"{} Numeric\".format(campo)\n",
    "    # Eliminar los caracteres no numéricos de la columna 'Total Pay'\n",
    "    df_numbers = dataframe.withColumn(new_field, regexp_replace(col(campo), '[^\\d]', '').cast('double')).drop(campo)\n",
    "\n",
    "    # Dejamos los numeros con un buen formato\n",
    "    return df_numbers.select(\"*\", format_number(new_field, 2).alias(campo))"
   ]
  },
  {
   "cell_type": "markdown",
   "id": "4fe611e7",
   "metadata": {},
   "source": [
    "Ordena los valores de mayor a menor de acuerdo a la columna Total Pay y muestra el resultado en pantalla **SIN SQL**\n"
   ]
  },
  {
   "cell_type": "code",
   "execution_count": 176,
   "id": "ef777a1d",
   "metadata": {},
   "outputs": [
    {
     "name": "stdout",
     "output_type": "stream",
     "text": [
      "+----+---------------+------------+-----------------+--------------+\n",
      "|Rank|Salary/Winnings|Endorsements|Total Pay Numeric|     Total Pay|\n",
      "+----+---------------+------------+-----------------+--------------+\n",
      "|   1|   $105,000,000|          $0|           1.05E8|105,000,000.00|\n",
      "|   2|    $52,000,000| $28,000,000|            8.0E7| 80,000,000.00|\n",
      "|   3|    $19,300,000| $53,000,000|           7.23E7| 72,300,000.00|\n",
      "|   4|    $41,700,000| $23,000,000|           6.47E7| 64,700,000.00|\n",
      "|   5|    $30,500,000| $31,000,000|           6.15E7| 61,500,000.00|\n",
      "+----+---------------+------------+-----------------+--------------+\n",
      "only showing top 5 rows\n",
      "\n"
     ]
    }
   ],
   "source": [
    "df_bien = formatDF(playersSalary, \"Total Pay\")\n",
    "df_bien.sort(desc(\"Total Pay Numeric\")).show(5)"
   ]
  },
  {
   "cell_type": "markdown",
   "id": "c40eea34",
   "metadata": {},
   "source": [
    "Ordena los valores de mayor a menor de acuerdo a la columna Total Pay y muestra el resultado en pantalla **CON SQL**"
   ]
  },
  {
   "cell_type": "code",
   "execution_count": 177,
   "id": "7808b4e7",
   "metadata": {},
   "outputs": [
    {
     "name": "stdout",
     "output_type": "stream",
     "text": [
      "+----+------------+---------------+------------+\n",
      "|Rank|   Total Pay|Salary/Winnings|Endorsements|\n",
      "+----+------------+---------------+------------+\n",
      "|   1|$105,000,000|   $105,000,000|          $0|\n",
      "|   2| $80,000,000|    $52,000,000| $28,000,000|\n",
      "|   3| $72,300,000|    $19,300,000| $53,000,000|\n",
      "|   4| $64,700,000|    $41,700,000| $23,000,000|\n",
      "|   5| $61,500,000|    $30,500,000| $31,000,000|\n",
      "|   6| $61,200,000|     $6,200,000| $55,000,000|\n",
      "|   7| $56,200,000|     $4,200,000| $52,000,000|\n",
      "|   8| $53,200,000|     $5,200,000| $48,000,000|\n",
      "|   9| $44,500,000|    $14,500,000| $30,000,000|\n",
      "|  10| $43,800,000|    $42,000,000|  $1,800,000|\n",
      "+----+------------+---------------+------------+\n",
      "only showing top 10 rows\n",
      "\n"
     ]
    }
   ],
   "source": [
    "# DataFrame como un Temporary Table\n",
    "playersSalary.createOrReplaceTempView(\"temp_table\")\n",
    "\n",
    "# Ejecucion del SQL\n",
    "\n",
    "query = \"\"\"\n",
    "    SELECT * \n",
    "    FROM temp_table\n",
    "    ORDER BY CAST(REPLACE(REPLACE(`Total Pay`, '$', ''), ',', '') AS DOUBLE) DESC\n",
    "\"\"\"\n",
    "\n",
    "spark.sql(query).show(10)\n"
   ]
  },
  {
   "cell_type": "markdown",
   "id": "d26327b5",
   "metadata": {},
   "source": [
    "###  Devuelve el conteo de todos los salarios por juego ganado mayores a $15,300,000 y muestra el resultado en pantalla \n",
    "**SIN SQL**"
   ]
  },
  {
   "cell_type": "code",
   "execution_count": 178,
   "id": "f5e1b0e4",
   "metadata": {},
   "outputs": [
    {
     "data": {
      "text/plain": [
       "76"
      ]
     },
     "execution_count": 178,
     "metadata": {},
     "output_type": "execute_result"
    }
   ],
   "source": [
    "df_bien = formatDF(playersSalary, \"Salary/Winnings\")\n",
    "df_bien.filter(df_bien[\"Salary/Winnings Numeric\"] > 15_300_000).count()"
   ]
  },
  {
   "cell_type": "markdown",
   "id": "51dff6ff",
   "metadata": {},
   "source": [
    "**CON SQL**"
   ]
  },
  {
   "cell_type": "code",
   "execution_count": 179,
   "id": "95626526",
   "metadata": {},
   "outputs": [
    {
     "name": "stdout",
     "output_type": "stream",
     "text": [
      "+--------+-------------+----------------+\n",
      "|cantidad|     promedio|       sumatoria|\n",
      "+--------+-------------+----------------+\n",
      "|      76|23,236,842.11|1,766,000,000.00|\n",
      "+--------+-------------+----------------+\n",
      "\n"
     ]
    }
   ],
   "source": [
    "# Devuelve el conteo de todos los salarios por juego ganado mayores a $15,300,000 y muestra el resultado en pantalla\n",
    "\n",
    "query_cantida_de_juegos = \"\"\"\n",
    "    SELECT COUNT(*) as `cantidad`, \n",
    "    FORMAT_NUMBER(AVG(CAST(REPLACE(REPLACE(`Salary/Winnings`, '$', ''), ',', '') AS DOUBLE)),2) AS `promedio`,\n",
    "    FORMAT_NUMBER(SUM(CAST(REPLACE(REPLACE(`Salary/Winnings`, '$', ''), ',', '') AS DOUBLE)),2) AS `sumatoria`\n",
    "    FROM temp_table\n",
    "    WHERE CAST(REPLACE(REPLACE(`Salary/Winnings`, '$', ''), ',', '') AS INT) > 15300000;\n",
    "\"\"\"\n",
    "\n",
    "spark.sql(query_cantida_de_juegos).show(10)\n"
   ]
  },
  {
   "cell_type": "markdown",
   "id": "14b2942d",
   "metadata": {},
   "source": [
    "### Devuelve el conteo de todos los salarios por endoso mayores a \\$800,000 y muestra el resultado en pantalla \n",
    "**SIN SQL**\n"
   ]
  },
  {
   "cell_type": "code",
   "execution_count": 180,
   "id": "47bd54f2",
   "metadata": {},
   "outputs": [
    {
     "data": {
      "text/plain": [
       "65"
      ]
     },
     "execution_count": 180,
     "metadata": {},
     "output_type": "execute_result"
    }
   ],
   "source": [
    "df_bien = formatDF(playersSalary, \"Endorsements\")\n",
    "df_bien.filter(df_bien[\"Endorsements Numeric\"] > 800_000).count()"
   ]
  },
  {
   "cell_type": "markdown",
   "id": "a6b5ebbd",
   "metadata": {},
   "source": [
    "**CONS SQL**\n"
   ]
  },
  {
   "cell_type": "code",
   "execution_count": 181,
   "id": "67f6372f",
   "metadata": {},
   "outputs": [
    {
     "name": "stdout",
     "output_type": "stream",
     "text": [
      "+--------+-------------+--------------+\n",
      "|cantidad|     promedio|     sumatoria|\n",
      "+--------+-------------+--------------+\n",
      "|      65|11,238,461.54|730,500,000.00|\n",
      "+--------+-------------+--------------+\n",
      "\n"
     ]
    }
   ],
   "source": [
    "# Devuelve el conteo de todos los salarios por endoso mayores a $800,000 y muestra el resultado en pantalla\n",
    "query_endorsements_mayores = \"\"\"\n",
    "    SELECT COUNT(*) as `cantidad`, \n",
    "    FORMAT_NUMBER(AVG(CAST(REPLACE(REPLACE(`Endorsements`, '$', ''), ',', '') AS DOUBLE)),2) AS `promedio`,\n",
    "    FORMAT_NUMBER(SUM(CAST(REPLACE(REPLACE(`Endorsements`, '$', ''), ',', '') AS DOUBLE)),2) AS `sumatoria`\n",
    "    FROM temp_table\n",
    "    WHERE CAST(REPLACE(REPLACE(`Endorsements`, '$', ''), ',', '') AS INT) > 800000;\n",
    "\"\"\"\n",
    "\n",
    "spark.sql(query_endorsements_mayores).show(10)"
   ]
  },
  {
   "cell_type": "markdown",
   "id": "d4e487d1",
   "metadata": {},
   "source": [
    "### Devuelve el Salario total máximo de todo el set de datos y muestra el resultado en pantalla\n",
    "**Sin SQL**"
   ]
  },
  {
   "cell_type": "code",
   "execution_count": 183,
   "id": "c761f575",
   "metadata": {},
   "outputs": [
    {
     "name": "stdout",
     "output_type": "stream",
     "text": [
      "+----+---------------+------------+-----------------+--------------+\n",
      "|Rank|Salary/Winnings|Endorsements|Total Pay Numeric|     Total Pay|\n",
      "+----+---------------+------------+-----------------+--------------+\n",
      "|   1|   $105,000,000|          $0|           1.05E8|105,000,000.00|\n",
      "+----+---------------+------------+-----------------+--------------+\n",
      "\n"
     ]
    }
   ],
   "source": [
    "df_bien = formatDF(playersSalary, \"Total Pay\")\n",
    "resultado = df_bien.orderBy(desc(\"Total Pay Numeric\")).first() # Row Type\n",
    "resultado = spark.createDataFrame([resultado]) # DF type\n",
    "resultado.show()"
   ]
  },
  {
   "cell_type": "markdown",
   "id": "c96effdb",
   "metadata": {},
   "source": [
    "**CON SQL**"
   ]
  },
  {
   "cell_type": "code",
   "execution_count": 184,
   "id": "ada57353",
   "metadata": {},
   "outputs": [
    {
     "name": "stdout",
     "output_type": "stream",
     "text": [
      "+----+------------+---------------+------------+\n",
      "|Rank|   Total Pay|Salary/Winnings|Endorsements|\n",
      "+----+------------+---------------+------------+\n",
      "|   1|$105,000,000|   $105,000,000|          $0|\n",
      "+----+------------+---------------+------------+\n",
      "\n"
     ]
    }
   ],
   "source": [
    "query = \"\"\"\n",
    "    SELECT * \n",
    "    FROM temp_table\n",
    "    ORDER BY CAST(REPLACE(REPLACE(`Total Pay`, '$', ''), ',', '') AS DOUBLE) DESC \n",
    "    LIMIT 1\n",
    "\"\"\"\n",
    "\n",
    "spark.sql(query).show()\n"
   ]
  },
  {
   "cell_type": "markdown",
   "id": "846659fd",
   "metadata": {},
   "source": [
    "### Devuelve el Salario total mínimo de todo el set de datos y muestra el resultado en pantalla\n",
    "**SIN SQL**"
   ]
  },
  {
   "cell_type": "code",
   "execution_count": 185,
   "id": "31174775",
   "metadata": {},
   "outputs": [
    {
     "name": "stdout",
     "output_type": "stream",
     "text": [
      "+----+---------------+------------+-----------------+-------------+\n",
      "|Rank|Salary/Winnings|Endorsements|Total Pay Numeric|    Total Pay|\n",
      "+----+---------------+------------+-----------------+-------------+\n",
      "| 100|    $13,300,000|  $4,000,000|           1.73E7|17,300,000.00|\n",
      "+----+---------------+------------+-----------------+-------------+\n",
      "\n"
     ]
    }
   ],
   "source": [
    "df_bien = formatDF(playersSalary, \"Total Pay\")\n",
    "resultado = df_bien.orderBy(\"Total Pay Numeric\").first() # Row Type\n",
    "resultado = spark.createDataFrame([resultado]) # DF type\n",
    "resultado.show()"
   ]
  },
  {
   "cell_type": "markdown",
   "id": "784fbcc1",
   "metadata": {},
   "source": [
    "**CON SQL**"
   ]
  },
  {
   "cell_type": "code",
   "execution_count": 186,
   "id": "8ca1ba72",
   "metadata": {},
   "outputs": [
    {
     "name": "stdout",
     "output_type": "stream",
     "text": [
      "+----+-----------+---------------+------------+\n",
      "|Rank|  Total Pay|Salary/Winnings|Endorsements|\n",
      "+----+-----------+---------------+------------+\n",
      "| 100|$17,300,000|    $13,300,000|  $4,000,000|\n",
      "+----+-----------+---------------+------------+\n",
      "\n"
     ]
    }
   ],
   "source": [
    "query = \"\"\"\n",
    "    SELECT * \n",
    "    FROM temp_table\n",
    "    ORDER BY CAST(REPLACE(REPLACE(`Total Pay`, '$', ''), ',', '') AS DOUBLE) \n",
    "    LIMIT 1\n",
    "\"\"\"\n",
    "\n",
    "spark.sql(query).show()"
   ]
  },
  {
   "cell_type": "markdown",
   "id": "dc082223",
   "metadata": {},
   "source": [
    "### Devuelve la suma y promedio de los salarios de cada columna y muestra el resultado en pantalla\n",
    "**SIN SQL**"
   ]
  },
  {
   "cell_type": "code",
   "execution_count": 187,
   "id": "206aa019",
   "metadata": {},
   "outputs": [],
   "source": [
    "# Funcion aux simplemente para ahorrar codigo\n",
    "def calColum(funcion, campo):\n",
    "    return funcion(campo).alias(funcion.__name__+ \" \" + campo.split(\" Numeric\")[0])"
   ]
  },
  {
   "cell_type": "code",
   "execution_count": 189,
   "id": "2462cf36",
   "metadata": {},
   "outputs": [
    {
     "name": "stdout",
     "output_type": "stream",
     "text": [
      "+-------------+-------------+-------------------+-------------------+----------------+----------------+\n",
      "|sum Total Pay|avg Total Pay|sum Salary/Winnings|avg Salary/Winnings|sum Endorsements|avg Endorsements|\n",
      "+-------------+-------------+-------------------+-------------------+----------------+----------------+\n",
      "|   2.751385E9|   2.751385E7|           2.0099E9|           2.0099E7|       7.41485E8|       7414850.0|\n",
      "+-------------+-------------+-------------------+-------------------+----------------+----------------+\n",
      "\n"
     ]
    }
   ],
   "source": [
    "df_bien = formatDF(playersSalary, \"Total Pay\")\n",
    "df_bien = formatDF(df_bien, \"Salary/Winnings\")\n",
    "df_bien = formatDF(df_bien, \"Endorsements\")\n",
    "df_bien.select(\n",
    "    calColum(sum, \"Total Pay Numeric\"), \n",
    "    calColum(avg, \"Total Pay Numeric\"),\n",
    "    calColum(sum, \"Salary/Winnings Numeric\"), \n",
    "    calColum(avg, \"Salary/Winnings Numeric\"),\n",
    "    calColum(sum, \"Endorsements Numeric\"), \n",
    "    calColum(avg, \"Endorsements Numeric\")\n",
    ").show()"
   ]
  },
  {
   "cell_type": "markdown",
   "id": "31c0b58d",
   "metadata": {},
   "source": [
    "**CON SQL**"
   ]
  },
  {
   "cell_type": "code",
   "execution_count": 192,
   "id": "3f71c3c0",
   "metadata": {},
   "outputs": [
    {
     "name": "stdout",
     "output_type": "stream",
     "text": [
      "+--------+-------------+----------------+-------------------+-------------------+----------------+----------------+\n",
      "|cantidad|avg Total Pay|   sum Total Pay|avg Salary/Winnings|sum Salary/Winnings|avg Endorsements|sum Endorsements|\n",
      "+--------+-------------+----------------+-------------------+-------------------+----------------+----------------+\n",
      "|     100|27,513,850.00|2,751,385,000.00|      20,099,000.00|   2,009,900,000.00|    7,414,850.00|  741,485,000.00|\n",
      "+--------+-------------+----------------+-------------------+-------------------+----------------+----------------+\n",
      "\n"
     ]
    }
   ],
   "source": [
    "# Devuelve el conteo de todos los salarios por endoso mayores a $800,000 y muestra el resultado en pantalla\n",
    "query_endorsements_mayores = \"\"\"\n",
    "    SELECT COUNT(*) as `cantidad`, \n",
    "    FORMAT_NUMBER(AVG(CAST(REPLACE(REPLACE(`Total Pay`, '$', ''), ',', '') AS DOUBLE)),2) AS `avg Total Pay`,\n",
    "    FORMAT_NUMBER(SUM(CAST(REPLACE(REPLACE(`Total Pay`, '$', ''), ',', '') AS DOUBLE)),2) AS `sum Total Pay`,\n",
    "    FORMAT_NUMBER(AVG(CAST(REPLACE(REPLACE(`Salary/Winnings`, '$', ''), ',', '') AS DOUBLE)),2) AS `avg Salary/Winnings`,\n",
    "    FORMAT_NUMBER(SUM(CAST(REPLACE(REPLACE(`Salary/Winnings`, '$', ''), ',', '') AS DOUBLE)),2) AS `sum Salary/Winnings`,\n",
    "    FORMAT_NUMBER(AVG(CAST(REPLACE(REPLACE(`Endorsements`, '$', ''), ',', '') AS DOUBLE)),2) AS `avg Endorsements`,\n",
    "    FORMAT_NUMBER(SUM(CAST(REPLACE(REPLACE(`Endorsements`, '$', ''), ',', '') AS DOUBLE)),2) AS `sum Endorsements`\n",
    "    FROM temp_table\n",
    "\"\"\"\n",
    "\n",
    "spark.sql(query_endorsements_mayores).show(10)"
   ]
  },
  {
   "cell_type": "markdown",
   "id": "6aaacb2e",
   "metadata": {},
   "source": [
    "#### EJemplos de los comandos en consola"
   ]
  },
  {
   "cell_type": "code",
   "execution_count": null,
   "id": "4aeed40e",
   "metadata": {},
   "outputs": [],
   "source": [
    "# 1 cargar datos\n",
    "val playersSalary = spark.read.option(\"header\", \"true\").option(\"inferSchema\", \"true\").option(\"sep\",\"|\").csv(\"C:\\\\Users\\\\SoporteTI\\\\Documents\\\\ejemplos\\\\Data\\\\t_players_salary.csv\")\n",
    "# mostrarlos\n",
    "playrsSalary.show()\n",
    "# 2 mostrar los tipos de cada columna\n",
    "playersSalary.printSchema\n",
    "# 3 ordenar\n",
    "playersSalary.createOrReplaceTempView(\"temp_table\")\n",
    "val query = \"\"\"\n",
    "    SELECT * \n",
    "    FROM temp_table\n",
    "    ORDER BY CAST(REPLACE(REPLACE(`Total Pay`, '$', ''), ',', '') AS INT)\n",
    "\"\"\"\n",
    "\n",
    "spark.sql(query).show(10)\n",
    "\n",
    "# Devuelte son consultas asi que pues ahi tan los querys arriba"
   ]
  },
  {
   "cell_type": "markdown",
   "id": "6205ac34",
   "metadata": {},
   "source": [
    "### Ejercicio 5\n",
    "\n",
    "* Inicializa una sesión de spark en consola y coloca en una variable llamada playersPersInfo la información del archivo t_players_info.csv, t_players_salary.csv, t_players_pers_info.csv considerando la realización de un left join; usa como llave primaria el campo Rank y muestra el resultado en pantalla.\n",
    "* Muestra el tipo de dato de cada columna.\n",
    "* Filtra solo por los jugadores que no viven en los Estados Unidos\n",
    "* Ordena los jugadores del más joven al más veterano \n",
    "* Escribe el resultado en un nuevo CSV delimitado por pipes “|” y nómbralo csv_result_players_info.csv"
   ]
  },
  {
   "cell_type": "markdown",
   "id": "70dea9a2",
   "metadata": {},
   "source": [
    "### coloca en una variable llamada playersPersInfo la información del archivo t_players_info.csv, t_players_salary.csv, t_players_pers_info.csv considerando la realización de un left join; usa como llave primaria el campo Rank y muestra el resultado en pantalla."
   ]
  },
  {
   "cell_type": "code",
   "execution_count": 46,
   "id": "abea4c72",
   "metadata": {},
   "outputs": [
    {
     "name": "stdout",
     "output_type": "stream",
     "text": [
      "+----+-------------+--------+--------------------+------+-----------+---------------+------------+-------------+-------------+-------------+--------------------+-----+\n",
      "|Rank|         Name|   Sport|      Wikipedia Page|Gender|  Total Pay|Salary/Winnings|Endorsements|      Country|birthday year|Date of Birth|              Region|goles|\n",
      "+----+-------------+--------+--------------------+------+-----------+---------------+------------+-------------+-------------+-------------+--------------------+-----+\n",
      "|  55|Aaron Rodgers|Football|http://en.wikiped...|  Male|$22,000,000|    $11,000,000| $11,000,000|United States|         1981|   1981-09-26|Saginaw, Michigan...|  175|\n",
      "|  55|Aaron Rodgers|Football|http://en.wikiped...|  Male|$22,000,000|    $11,000,000| $11,000,000|United States|         1983|   1983-12-02|Chico, California...|  188|\n",
      "|  55|Aaron Rodgers|Football|http://en.wikiped...|  Male|$22,000,000|    $14,500,000|  $7,500,000|United States|         1981|   1981-09-26|Saginaw, Michigan...|  175|\n",
      "|  55|Aaron Rodgers|Football|http://en.wikiped...|  Male|$22,000,000|    $14,500,000|  $7,500,000|United States|         1983|   1983-12-02|Chico, California...|  188|\n",
      "|  95|   Adam Scott|    Golf|https://en.wikipe...|  Male|$17,700,000|     $8,700,000|  $9,000,000|    Australia|         1980|   1980-07-16| Adelaide, Australia|  183|\n",
      "+----+-------------+--------+--------------------+------+-----------+---------------+------------+-------------+-------------+-------------+--------------------+-----+\n",
      "only showing top 5 rows\n",
      "\n"
     ]
    }
   ],
   "source": [
    "from pyspark.sql.types import StructType, StructField, StringType, IntegerType, DateType\n",
    "\n",
    "schema = StructType([\n",
    "    StructField(\"Rank\", IntegerType(), True),\n",
    "    StructField(\"Country\", StringType(), True),\n",
    "    StructField(\"birthday year\", IntegerType(), True),\n",
    "    StructField(\"Date of Birth\", DateType(), True),\n",
    "    StructField(\"Region\", StringType(), True),\n",
    "    StructField(\"goles\", IntegerType(), True),\n",
    "])\n",
    "\n",
    "# Cargamos toda la informacion\n",
    "players_info = spark.read.csv(\"data/t_players_info.csv\", sep=\",\", header=True, inferSchema=True)\n",
    "players_salary = spark.read.csv(\"data/t_players_salary.csv\", sep=\"|\", header=True, inferSchema=True)\n",
    "spark.conf.set(\"spark.sql.legacy.timeParserPolicy\", \"LEGACY\")\n",
    "players_pers = spark.read.csv(\"data/t_players_pers_info.csv\", sep=\",\", header=False, inferSchema=False, schema=schema, dateFormat=\"dd/MM/yyyy\")\n",
    "\n",
    "# realizamos el left Join para unir la informacion en un solo datagrame\n",
    "playersPersInfo = players_info.join(players_salary, on = \"Rank\", how= \"left_outer\").join(players_pers, on=\"Rank\", how=\"left_outer\")\n",
    "playersPersInfo.show(5)"
   ]
  },
  {
   "cell_type": "markdown",
   "id": "e5ab7251",
   "metadata": {},
   "source": [
    "### Muestra el tipo de dato de cada columna."
   ]
  },
  {
   "cell_type": "code",
   "execution_count": 47,
   "id": "6aca3913",
   "metadata": {},
   "outputs": [
    {
     "name": "stdout",
     "output_type": "stream",
     "text": [
      "root\n",
      " |-- Rank: integer (nullable = true)\n",
      " |-- Name: string (nullable = true)\n",
      " |-- Sport: string (nullable = true)\n",
      " |-- Wikipedia Page: string (nullable = true)\n",
      " |-- Gender: string (nullable = true)\n",
      " |-- Total Pay: string (nullable = true)\n",
      " |-- Salary/Winnings: string (nullable = true)\n",
      " |-- Endorsements: string (nullable = true)\n",
      " |-- Country: string (nullable = true)\n",
      " |-- birthday year: integer (nullable = true)\n",
      " |-- Date of Birth: date (nullable = true)\n",
      " |-- Region: string (nullable = true)\n",
      " |-- goles: integer (nullable = true)\n",
      "\n"
     ]
    }
   ],
   "source": [
    "playersPersInfo.printSchema()"
   ]
  },
  {
   "cell_type": "markdown",
   "id": "b6a99fab",
   "metadata": {},
   "source": [
    "### Filtra solo por los jugadores que no viven en los Estados Unidos"
   ]
  },
  {
   "cell_type": "code",
   "execution_count": 48,
   "id": "e99ae938",
   "metadata": {},
   "outputs": [
    {
     "name": "stdout",
     "output_type": "stream",
     "text": [
      "+----+---------------+-------------+--------------------+-------------+\n",
      "|Rank|           Name|      Country|              Region|Date of Birth|\n",
      "+----+---------------+-------------+--------------------+-------------+\n",
      "|  55|  Aaron Rodgers|United States|Saginaw, Michigan...|   1981-09-26|\n",
      "|  55|  Aaron Rodgers|United States|Chico, California...|   1983-12-02|\n",
      "|  55|  Aaron Rodgers|United States|Saginaw, Michigan...|   1981-09-26|\n",
      "|  55|  Aaron Rodgers|United States|Chico, California...|   1983-12-02|\n",
      "|  60|Adrian Gonzalez|United States|San Diego, Califo...|   1982-05-08|\n",
      "+----+---------------+-------------+--------------------+-------------+\n",
      "only showing top 5 rows\n",
      "\n"
     ]
    }
   ],
   "source": [
    "df = playersPersInfo.select(\"Rank\", \"Name\" , \"Country\" ,\"Region\", \"Date of Birth\")\n",
    "df.filter(playersPersInfo[\"Country\"] == \"United States\").show(5)"
   ]
  },
  {
   "cell_type": "markdown",
   "id": "977f47ea",
   "metadata": {},
   "source": [
    "### Ordena los jugadores del más joven al más veterano"
   ]
  },
  {
   "cell_type": "code",
   "execution_count": 49,
   "id": "00197a1c",
   "metadata": {},
   "outputs": [
    {
     "name": "stdout",
     "output_type": "stream",
     "text": [
      "+----+--------------+-------+--------------------+-------------+\n",
      "|Rank|          Name|Country|              Region|Date of Birth|\n",
      "+----+--------------+-------+--------------------+-------------+\n",
      "|  16|        Neymar| Brazil|Mogi das Cruzes, ...|   1992-02-05|\n",
      "|  66|   Eli Manning| Mexico|Guadalajara, Jali...|   1990-07-18|\n",
      "|  66|    Drew Brees| Mexico|Guadalajara, Jali...|   1990-07-18|\n",
      "|  66|Canelo Alvarez| Mexico|Guadalajara, Jali...|   1990-07-18|\n",
      "|  66|    Drew Brees| Mexico|Guadalajara, Jali...|   1990-07-18|\n",
      "|  66|   Eli Manning| Mexico|Guadalajara, Jali...|   1990-07-18|\n",
      "|  66|   Eli Manning| Mexico|Guadalajara, Jali...|   1990-07-18|\n",
      "|  66|Canelo Alvarez| Mexico|Guadalajara, Jali...|   1990-07-18|\n",
      "|  66|Canelo Alvarez| Mexico|Guadalajara, Jali...|   1990-07-18|\n",
      "|  66|    Drew Brees| Mexico|Guadalajara, Jali...|   1990-07-18|\n",
      "+----+--------------+-------+--------------------+-------------+\n",
      "only showing top 10 rows\n",
      "\n"
     ]
    }
   ],
   "source": [
    "df.sort(desc(\"Date of Birth\")).show(10)"
   ]
  },
  {
   "cell_type": "markdown",
   "id": "cb3c9904",
   "metadata": {},
   "source": [
    "### Escribe el resultado en un nuevo CSV delimitado por pipes “|” y nómbralo csv_result_players_info.csv"
   ]
  },
  {
   "cell_type": "code",
   "execution_count": 51,
   "id": "d511ef0f",
   "metadata": {},
   "outputs": [],
   "source": [
    "playersPersInfo.write.csv(\"data/csv_result_players_info.csv\", sep=\"|\", header=True, mode=\"overwrite\")"
   ]
  },
  {
   "cell_type": "code",
   "execution_count": null,
   "id": "bbf70066",
   "metadata": {},
   "outputs": [],
   "source": []
  }
 ],
 "metadata": {
  "kernelspec": {
   "display_name": "Python 3 (ipykernel)",
   "language": "python",
   "name": "python3"
  },
  "language_info": {
   "codemirror_mode": {
    "name": "ipython",
    "version": 3
   },
   "file_extension": ".py",
   "mimetype": "text/x-python",
   "name": "python",
   "nbconvert_exporter": "python",
   "pygments_lexer": "ipython3",
   "version": "3.9.13"
  }
 },
 "nbformat": 4,
 "nbformat_minor": 5
}
